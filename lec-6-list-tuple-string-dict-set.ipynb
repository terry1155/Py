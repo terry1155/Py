{
 "cells": [
  {
   "cell_type": "markdown",
   "id": "5874984a",
   "metadata": {},
   "source": [
    "## 学过的数据类型\n",
    "---\n",
    "### > 基本数据类型：int，float，bool，complex<br>\n",
    "### > 容器类数据类型：str，list，tuple，dict，set"
   ]
  },
  {
   "cell_type": "code",
   "execution_count": null,
   "id": "9611edb5",
   "metadata": {},
   "outputs": [],
   "source": [
    "str1=\"There are 50 fruits, 20 apples and 30 bananas.\""
   ]
  },
  {
   "cell_type": "code",
   "execution_count": null,
   "id": "9ec8f075",
   "metadata": {},
   "outputs": [],
   "source": [
    "#把str1中的单词和数字找出来，分别放到列表words和numbers中,并友好输出\n",
    "temp=str1.split()\n",
    "words=[]\n",
    "numbers=[]\n",
    "for _ in temp:\n",
    "    t=_.strip(' ,.')\n",
    "    if t.isalpha():\n",
    "        words.append(t)\n",
    "    if t.isnumeric():\n",
    "        numbers.append(eval(t)) #\n",
    "\n",
    "print(f'words:{words},there are {len(words)} words;\\nnumbers={numbers}, \\\n",
    "there are {len(numbers)} numbers, and the sum is {sum(numbers)}.')"
   ]
  },
  {
   "cell_type": "code",
   "execution_count": null,
   "id": "a423b222",
   "metadata": {},
   "outputs": [],
   "source": [
    "#words列表中第二个元素字母对应的ASCII值\n",
    "for i in words[1]:\n",
    "    print(f'{i}={ord(i)}',end='\\t')"
   ]
  },
  {
   "cell_type": "markdown",
   "id": "8d1749f1",
   "metadata": {},
   "source": [
    "### 列表，字符串都可以进行索引或切片操作；它们都有多个对应的操作方法 "
   ]
  },
  {
   "cell_type": "code",
   "execution_count": null,
   "id": "1b722bc0",
   "metadata": {
    "scrolled": true
   },
   "outputs": [],
   "source": [
    "print(dir(list))"
   ]
  },
  {
   "cell_type": "code",
   "execution_count": null,
   "id": "0e6d2fe8",
   "metadata": {},
   "outputs": [],
   "source": [
    "numbers*2,numbers+[10] #列表乘以整数n，表示复制n次；'+'表示两个列表结合"
   ]
  },
  {
   "cell_type": "code",
   "execution_count": null,
   "id": "7b903d8e",
   "metadata": {
    "scrolled": true
   },
   "outputs": [],
   "source": [
    "print(dir(str))"
   ]
  },
  {
   "cell_type": "code",
   "execution_count": null,
   "id": "3f4688bc",
   "metadata": {},
   "outputs": [],
   "source": [
    "words[0]*3,words[1]+' one more'"
   ]
  },
  {
   "cell_type": "markdown",
   "id": "5f828993",
   "metadata": {},
   "source": [
    "---"
   ]
  },
  {
   "cell_type": "markdown",
   "id": "27a142cd",
   "metadata": {},
   "source": [
    "### 字符串元素不可更改，因此操作通常会生成一个新字符串"
   ]
  },
  {
   "cell_type": "code",
   "execution_count": null,
   "id": "0cb73bee",
   "metadata": {},
   "outputs": [],
   "source": [
    "new_str=str1.title() #将生成的新字符串保存到变量中"
   ]
  },
  {
   "cell_type": "markdown",
   "id": "a2491000",
   "metadata": {},
   "source": [
    "### Python的内置函数"
   ]
  },
  {
   "cell_type": "code",
   "execution_count": null,
   "id": "2427c18f",
   "metadata": {},
   "outputs": [],
   "source": [
    "print(dir(__builtins__)[81:])"
   ]
  },
  {
   "cell_type": "code",
   "execution_count": null,
   "id": "dd3ae0f0",
   "metadata": {},
   "outputs": [],
   "source": [
    "print(abs(-3.2),all([1,3,'']),any([1,3,'']))"
   ]
  },
  {
   "cell_type": "markdown",
   "id": "5aa556d3",
   "metadata": {},
   "source": [
    "## 继续学习元组tuple"
   ]
  },
  {
   "cell_type": "code",
   "execution_count": null,
   "id": "e3ec65be",
   "metadata": {},
   "outputs": [],
   "source": [
    "n=tuple(numbers)\n",
    "type(n),n,numbers"
   ]
  },
  {
   "cell_type": "code",
   "execution_count": null,
   "id": "91c46a78",
   "metadata": {},
   "outputs": [],
   "source": [
    "n1=(1,2,3,4,5)\n",
    "n2=()\n",
    "n3=(1)\n",
    "type(n1),type(n2),type(n3)"
   ]
  },
  {
   "cell_type": "markdown",
   "id": "43ac1d22",
   "metadata": {},
   "source": [
    "### 元组元素不可编辑；元素的索引和切片"
   ]
  },
  {
   "cell_type": "code",
   "execution_count": null,
   "id": "786b935b",
   "metadata": {},
   "outputs": [],
   "source": [
    "n1[0]=5"
   ]
  },
  {
   "cell_type": "code",
   "execution_count": null,
   "id": "4dafc815",
   "metadata": {},
   "outputs": [],
   "source": [
    "n1[0],n1[-1],n1[::-1]"
   ]
  },
  {
   "cell_type": "code",
   "execution_count": null,
   "id": "7cb51f38",
   "metadata": {},
   "outputs": [],
   "source": [
    "print(dir(n1))"
   ]
  },
  {
   "cell_type": "code",
   "execution_count": null,
   "id": "0e6a579e",
   "metadata": {},
   "outputs": [],
   "source": [
    "n+n1,n*3,n+(2,)"
   ]
  },
  {
   "cell_type": "code",
   "execution_count": null,
   "id": "8c34cf41",
   "metadata": {},
   "outputs": [],
   "source": [
    "(n*3).count(20),n.index(20)"
   ]
  },
  {
   "cell_type": "code",
   "execution_count": null,
   "id": "93cdcf66",
   "metadata": {},
   "outputs": [],
   "source": [
    "n3=(1,2,[])"
   ]
  },
  {
   "cell_type": "code",
   "execution_count": null,
   "id": "e6aa0b51",
   "metadata": {},
   "outputs": [],
   "source": [
    "n3[2]=[1,2]"
   ]
  },
  {
   "cell_type": "code",
   "execution_count": null,
   "id": "b4f90bff",
   "metadata": {},
   "outputs": [],
   "source": [
    "n3[2].extend([1,2])"
   ]
  },
  {
   "cell_type": "code",
   "execution_count": null,
   "id": "8eeea5c2",
   "metadata": {},
   "outputs": [],
   "source": [
    "n3"
   ]
  },
  {
   "cell_type": "code",
   "execution_count": null,
   "id": "ffa07e3a",
   "metadata": {},
   "outputs": [],
   "source": [
    "a,b=0,1"
   ]
  },
  {
   "cell_type": "markdown",
   "id": "d713f190",
   "metadata": {},
   "source": [
    "## 一种新的可编辑容器数据类型：字典，采用{}表示，其元素为键值对，key:value"
   ]
  },
  {
   "cell_type": "code",
   "execution_count": null,
   "id": "423cf2eb",
   "metadata": {},
   "outputs": [],
   "source": [
    "names=[\"Jane\",\"Rose\",\"Peter\",\"Hunter\",\"Tom\"]\n",
    "import random\n",
    "scores=random.sample(range(60,80),len(names))\n",
    "print(names,'\\n',scores)"
   ]
  },
  {
   "cell_type": "code",
   "execution_count": null,
   "id": "e8a56278",
   "metadata": {},
   "outputs": [],
   "source": [
    "#如何快速查询不同学生的成绩？\n",
    "s_id=names.index('Rose')\n",
    "score=scores[s_id]\n",
    "score"
   ]
  },
  {
   "cell_type": "code",
   "execution_count": null,
   "id": "8207fa2d",
   "metadata": {},
   "outputs": [],
   "source": [
    "d={'Rose':63,\"Bob\":89,\"Jane\":80,\"Hunter\":70}\n",
    "print(d)\n"
   ]
  },
  {
   "cell_type": "code",
   "execution_count": null,
   "id": "c1cb3de6",
   "metadata": {},
   "outputs": [],
   "source": [
    "#创建字典的各种方法\n",
    "d1={}\n",
    "d2=dict()\n",
    "d3=dict([(1,'one'),(2,'two'),(3,'three')])"
   ]
  },
  {
   "cell_type": "code",
   "execution_count": null,
   "id": "43469ad7",
   "metadata": {},
   "outputs": [],
   "source": [
    "d1,d2,d3"
   ]
  },
  {
   "cell_type": "code",
   "execution_count": null,
   "id": "0c2d6c9e",
   "metadata": {},
   "outputs": [],
   "source": [
    "words"
   ]
  },
  {
   "cell_type": "code",
   "execution_count": null,
   "id": "50ee1011",
   "metadata": {},
   "outputs": [],
   "source": [
    "i=range(len(words))\n",
    "words,i"
   ]
  },
  {
   "cell_type": "code",
   "execution_count": null,
   "id": "3f57aa9c",
   "metadata": {},
   "outputs": [],
   "source": [
    "zip(i,words)"
   ]
  },
  {
   "cell_type": "code",
   "execution_count": null,
   "id": "d90802eb",
   "metadata": {},
   "outputs": [],
   "source": [
    "list(zip(i,words))"
   ]
  },
  {
   "cell_type": "code",
   "execution_count": null,
   "id": "9dab26f2",
   "metadata": {},
   "outputs": [],
   "source": [
    "d4=dict(list(zip(i,words)))"
   ]
  },
  {
   "cell_type": "code",
   "execution_count": null,
   "id": "ad3d2836",
   "metadata": {},
   "outputs": [],
   "source": [
    "d4,type(d4),id(d4)"
   ]
  },
  {
   "cell_type": "code",
   "execution_count": null,
   "id": "03cae6a0",
   "metadata": {},
   "outputs": [],
   "source": [
    "print(dir(d4))"
   ]
  },
  {
   "cell_type": "markdown",
   "id": "75df50b9",
   "metadata": {},
   "source": [
    "### 访问字典中的值"
   ]
  },
  {
   "cell_type": "code",
   "execution_count": null,
   "id": "338ab42c",
   "metadata": {},
   "outputs": [],
   "source": [
    "d['Rose']"
   ]
  },
  {
   "cell_type": "code",
   "execution_count": null,
   "id": "7637fe78",
   "metadata": {},
   "outputs": [],
   "source": [
    "d4[1]"
   ]
  },
  {
   "cell_type": "code",
   "execution_count": null,
   "id": "1431922c",
   "metadata": {},
   "outputs": [],
   "source": [
    "d4[6]"
   ]
  },
  {
   "cell_type": "code",
   "execution_count": null,
   "id": "fae0b790",
   "metadata": {},
   "outputs": [],
   "source": [
    "d4.get(6)"
   ]
  },
  {
   "cell_type": "code",
   "execution_count": null,
   "id": "c38c2b29",
   "metadata": {},
   "outputs": [],
   "source": [
    "d4.get(6,'oops! no such key!')"
   ]
  },
  {
   "cell_type": "code",
   "execution_count": null,
   "id": "b4983efe",
   "metadata": {},
   "outputs": [],
   "source": [
    "for k,v in d4.items():\n",
    "    print(f\"key:{k},value:{v}\")"
   ]
  },
  {
   "cell_type": "markdown",
   "id": "ee1031b9",
   "metadata": {},
   "source": [
    "### 修改字典"
   ]
  },
  {
   "cell_type": "code",
   "execution_count": null,
   "id": "561be8bf",
   "metadata": {},
   "outputs": [],
   "source": [
    "d4[1]='ARE'"
   ]
  },
  {
   "cell_type": "code",
   "execution_count": null,
   "id": "379b4bec",
   "metadata": {},
   "outputs": [],
   "source": [
    "d4"
   ]
  },
  {
   "cell_type": "code",
   "execution_count": null,
   "id": "47d9191a",
   "metadata": {},
   "outputs": [],
   "source": [
    "d4[4]='and'"
   ]
  },
  {
   "cell_type": "code",
   "execution_count": null,
   "id": "262033d1",
   "metadata": {},
   "outputs": [],
   "source": [
    "d4"
   ]
  },
  {
   "cell_type": "markdown",
   "id": "dc8f6dbb",
   "metadata": {},
   "source": [
    "### 删除字典中的元素"
   ]
  },
  {
   "cell_type": "code",
   "execution_count": null,
   "id": "27dee2d9",
   "metadata": {},
   "outputs": [],
   "source": [
    "x=d4.pop(4) #删除对应的key，并返回key所对应的值\n",
    "x,d4"
   ]
  },
  {
   "cell_type": "code",
   "execution_count": null,
   "id": "a4463928",
   "metadata": {},
   "outputs": [],
   "source": [
    "x=d4.popitem() #删除一个元素，并返回一个key,val元组\n",
    "x,d4"
   ]
  },
  {
   "cell_type": "markdown",
   "id": "a3e55183",
   "metadata": {},
   "source": [
    "### 更新字典"
   ]
  },
  {
   "cell_type": "code",
   "execution_count": null,
   "id": "cb8d0df5",
   "metadata": {},
   "outputs": [],
   "source": [
    "d1={0:\"a\",1:\"b\",2:\"c\"}\n",
    "d2={1:\"d\",3:\"e\"}\n",
    "d1.update(d2)\n",
    "d1,d2"
   ]
  },
  {
   "cell_type": "markdown",
   "id": "e8c0c092",
   "metadata": {},
   "source": [
    "### 简单了解一下集合set，与dict类似，但只存key"
   ]
  },
  {
   "cell_type": "code",
   "execution_count": null,
   "id": "ad5877b8",
   "metadata": {},
   "outputs": [],
   "source": [
    "s1=set([1,5,3,7,2,3,6])\n",
    "s1"
   ]
  },
  {
   "cell_type": "code",
   "execution_count": null,
   "id": "97b139f3",
   "metadata": {},
   "outputs": [],
   "source": [
    "s2=set()"
   ]
  },
  {
   "cell_type": "code",
   "execution_count": null,
   "id": "cc358b8d",
   "metadata": {
    "scrolled": true
   },
   "outputs": [],
   "source": [
    "print(dir(set))"
   ]
  },
  {
   "cell_type": "code",
   "execution_count": null,
   "id": "ec9733f0",
   "metadata": {},
   "outputs": [],
   "source": [
    "a=set(d)#字典转换为集合（字典中的键key）\n",
    "a.add(22)#增加元素\n",
    "a"
   ]
  },
  {
   "cell_type": "code",
   "execution_count": null,
   "id": "79207f26",
   "metadata": {},
   "outputs": [],
   "source": [
    "a.pop()#随机删除元素"
   ]
  },
  {
   "cell_type": "code",
   "execution_count": null,
   "id": "4c2020a6",
   "metadata": {},
   "outputs": [],
   "source": [
    "a.pop(22)"
   ]
  },
  {
   "cell_type": "code",
   "execution_count": null,
   "id": "558a4bfb",
   "metadata": {},
   "outputs": [],
   "source": [
    "a.remove(22)#移除指定元素，如果元素不存在抛出错误。discard方法则不抛出错误\n",
    "a"
   ]
  },
  {
   "cell_type": "code",
   "execution_count": null,
   "id": "807852a8",
   "metadata": {},
   "outputs": [],
   "source": [
    "s3={5,7,9,0}"
   ]
  },
  {
   "cell_type": "code",
   "execution_count": null,
   "id": "e0274251",
   "metadata": {},
   "outputs": [],
   "source": [
    "s1&s3"
   ]
  },
  {
   "cell_type": "code",
   "execution_count": null,
   "id": "add98021",
   "metadata": {},
   "outputs": [],
   "source": [
    "s1|s3"
   ]
  },
  {
   "cell_type": "markdown",
   "id": "fe932d82",
   "metadata": {},
   "source": [
    "## 进一步学习"
   ]
  },
  {
   "cell_type": "code",
   "execution_count": null,
   "id": "72f7a7c9",
   "metadata": {},
   "outputs": [],
   "source": [
    "#列表与字符串的互换\n",
    "a=\"this is a string.\"\n",
    "b=list(a)\n",
    "b"
   ]
  },
  {
   "cell_type": "code",
   "execution_count": null,
   "id": "8b9a2741",
   "metadata": {},
   "outputs": [],
   "source": [
    "c=''.join(b)\n",
    "c"
   ]
  },
  {
   "cell_type": "code",
   "execution_count": null,
   "id": "ee98df13",
   "metadata": {},
   "outputs": [],
   "source": [
    "#字典转为列表\n",
    "a={0:'a',1:'b',2:'c'}\n",
    "b=list(a)#字典的key转为列表\n",
    "b"
   ]
  },
  {
   "cell_type": "code",
   "execution_count": null,
   "id": "a7d212f8",
   "metadata": {},
   "outputs": [],
   "source": [
    "c=list(a.values())#字典的值转为列表\n",
    "c"
   ]
  },
  {
   "cell_type": "markdown",
   "id": "f37d3205",
   "metadata": {},
   "source": [
    "### range函数\n",
    "range(stop)<br>\n",
    "range(start, stop[, step])"
   ]
  },
  {
   "cell_type": "code",
   "execution_count": null,
   "id": "1a01c1b7",
   "metadata": {},
   "outputs": [],
   "source": [
    "range(5),range(0,5),range(1,10,2)"
   ]
  },
  {
   "cell_type": "code",
   "execution_count": null,
   "id": "75f74677",
   "metadata": {},
   "outputs": [],
   "source": [
    "list(range(5))"
   ]
  },
  {
   "cell_type": "markdown",
   "id": "aa41d440",
   "metadata": {},
   "source": [
    "### 高效的列表推导式"
   ]
  },
  {
   "cell_type": "code",
   "execution_count": null,
   "id": "b07da078",
   "metadata": {},
   "outputs": [],
   "source": [
    "[x for x in range(1,10,2)]"
   ]
  },
  {
   "cell_type": "code",
   "execution_count": null,
   "id": "e122b3e8",
   "metadata": {},
   "outputs": [],
   "source": [
    "[x for x in range(1,10,2) if x>3]"
   ]
  },
  {
   "cell_type": "code",
   "execution_count": null,
   "id": "95383f27",
   "metadata": {},
   "outputs": [],
   "source": [
    "#字典推导式\n",
    "{x:str(x**2) for x in [2,3,5]}"
   ]
  },
  {
   "cell_type": "code",
   "execution_count": null,
   "id": "4e642845",
   "metadata": {},
   "outputs": [],
   "source": [
    "#集合推导式\n",
    "{x for x in range(10) if x%2}"
   ]
  },
  {
   "cell_type": "code",
   "execution_count": null,
   "id": "3ff091df",
   "metadata": {},
   "outputs": [],
   "source": [
    "#元组推导式\n",
    "(x for x in range(10) if x%2)"
   ]
  },
  {
   "cell_type": "markdown",
   "id": "81b79fac",
   "metadata": {},
   "source": [
    "### enumerate函数"
   ]
  },
  {
   "cell_type": "code",
   "execution_count": null,
   "id": "19a1e006",
   "metadata": {},
   "outputs": [],
   "source": [
    "for each in enumerate(['one','two',3,4]):\n",
    "    print (each)"
   ]
  },
  {
   "cell_type": "markdown",
   "id": "77c31f21",
   "metadata": {},
   "source": [
    "## 条件语句：模式匹配（match，需要python3.10版本以上）"
   ]
  },
  {
   "cell_type": "code",
   "execution_count": null,
   "id": "00826d31",
   "metadata": {},
   "outputs": [],
   "source": [
    "age = 15\n",
    "\n",
    "match age:\n",
    "    case x if x < 10:\n",
    "        print(f'< 10 years old: {x}')\n",
    "    case 10:\n",
    "        print('10 years old.')\n",
    "    case 11 | 12 | 13 | 14 | 15 | 16 | 17 | 18:\n",
    "        print('11~18 years old.')\n",
    "    case 19:\n",
    "        print('19 years old.')\n",
    "    case _:\n",
    "        print('not sure.')"
   ]
  },
  {
   "cell_type": "code",
   "execution_count": null,
   "id": "100d7dbe",
   "metadata": {},
   "outputs": [],
   "source": [
    "import sys\n",
    "sys.version"
   ]
  },
  {
   "cell_type": "code",
   "execution_count": null,
   "id": "ade1d5a0",
   "metadata": {},
   "outputs": [],
   "source": []
  }
 ],
 "metadata": {
  "kernelspec": {
   "display_name": "Python 3 (ipykernel)",
   "language": "python",
   "name": "python3"
  },
  "language_info": {
   "codemirror_mode": {
    "name": "ipython",
    "version": 3
   },
   "file_extension": ".py",
   "mimetype": "text/x-python",
   "name": "python",
   "nbconvert_exporter": "python",
   "pygments_lexer": "ipython3",
   "version": "3.9.7"
  }
 },
 "nbformat": 4,
 "nbformat_minor": 5
}
